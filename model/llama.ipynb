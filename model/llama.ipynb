{
 "cells": [
  {
   "cell_type": "code",
   "execution_count": 2,
   "metadata": {},
   "outputs": [],
   "source": [
    "from transformers import LlamaForCausalLM, LlamaTokenizer, LlamaConfig\n",
    "import torch"
   ]
  },
  {
   "cell_type": "code",
   "execution_count": 35,
   "metadata": {},
   "outputs": [],
   "source": [
    "configuration = LlamaConfig(\n",
    "    vocab_size=32_000, # Should get this done... For now keep temporary\n",
    "    hidden_size=1024, # Embeddings dimension\n",
    "    intermediate_size=2048, # The Feed Forward will expand to this size (I think) \n",
    "    num_hidden_layers=48, # Number of layers of transformer block\n",
    "    num_attention_heads=32, # Number of attention heads per transformer block\n",
    "    max_position_embeddings=4096, # Max context length, I feel like this should be dependent on the tokenizer\n",
    "    \n",
    ")"
   ]
  },
  {
   "cell_type": "code",
   "execution_count": null,
   "metadata": {},
   "outputs": [],
   "source": [
    "# tokenizer = LlamaTokenizer.from_pretrained(\"/output/path\")\n",
    "# Prepare the dataset before doing this."
   ]
  },
  {
   "cell_type": "code",
   "execution_count": 36,
   "metadata": {},
   "outputs": [],
   "source": [
    "model = LlamaForCausalLM(configuration)"
   ]
  },
  {
   "cell_type": "code",
   "execution_count": 37,
   "metadata": {},
   "outputs": [
    {
     "name": "stdout",
     "output_type": "stream",
     "text": [
      "568,951,808\n"
     ]
    }
   ],
   "source": [
    "print(f'{model.num_parameters():,}')"
   ]
  }
 ],
 "metadata": {
  "kernelspec": {
   "display_name": "Python 3",
   "language": "python",
   "name": "python3"
  },
  "language_info": {
   "codemirror_mode": {
    "name": "ipython",
    "version": 3
   },
   "file_extension": ".py",
   "mimetype": "text/x-python",
   "name": "python",
   "nbconvert_exporter": "python",
   "pygments_lexer": "ipython3",
   "version": "3.9.6"
  },
  "orig_nbformat": 4
 },
 "nbformat": 4,
 "nbformat_minor": 2
}
